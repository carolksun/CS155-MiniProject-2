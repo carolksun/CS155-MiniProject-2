{
 "cells": [
  {
   "cell_type": "markdown",
   "metadata": {},
   "source": [
    "# Matrix Factorization using Surprise Library\n"
   ]
  },
  {
   "cell_type": "code",
   "execution_count": 1,
   "metadata": {},
   "outputs": [],
   "source": [
    "import numpy as np\n",
    "import matplotlib.pyplot as plt\n",
    "import pandas as pd\n",
    "from surprise import Dataset\n",
    "from surprise import Reader\n",
    "from surprise import SVDpp\n",
    "from surprise import accuracy\n",
    "from surprise.model_selection import KFold\n",
    "from surprise.model_selection import GridSearchCV\n"
   ]
  },
  {
   "cell_type": "code",
   "execution_count": 6,
   "metadata": {},
   "outputs": [],
   "source": [
    "Y_train = np.loadtxt('./data/train.txt').astype(int)\n",
    "train = pd.DataFrame(Y_train, columns=['userID', 'movieID', 'rating'])\n",
    "Y_test = np.loadtxt('./data/test.txt').astype(int)\n",
    "test = pd.DataFrame(Y_test, columns=['userID', 'movieID', 'rating'])\n",
    "dataset = np.loadtxt('./data/data.txt').astype(int)\n",
    "dataset = pd.DataFrame(dataset, columns=['userID', 'movieID', 'rating'])"
   ]
  },
  {
   "cell_type": "code",
   "execution_count": 7,
   "metadata": {},
   "outputs": [],
   "source": [
    "reader = Reader(rating_scale=(1, 5))\n",
    "trainset = Dataset.load_from_df(train[['userID', 'movieID', 'rating']], reader)\n",
    "test_data = Dataset.load_from_df(test[['userID', 'movieID', 'rating']], reader)\n",
    "dataset = Dataset.load_from_df(dataset[['userID', 'movieID', 'rating']], reader)\n",
    "\n",
    "\n",
    "trainset = trainset.build_full_trainset()"
   ]
  },
  {
   "cell_type": "code",
   "execution_count": 8,
   "metadata": {},
   "outputs": [],
   "source": [
    "fulldata = dataset.build_full_trainset()"
   ]
  },
  {
   "cell_type": "code",
   "execution_count": null,
   "metadata": {},
   "outputs": [],
   "source": [
    "regs = [10**-3, 10**-2]\n",
    "etas = [0.01, 0.03, 0.05, 0.07]\n",
    "E_ins = []\n",
    "E_outs = []\n",
    "ep = 20\n",
    "\n",
    "for reg in regs:\n",
    "        E_outs_for_lambda = []\n",
    "\n",
    "        for eta in etas:\n",
    "            print(\"Training model with epoch = %d, eta = %s, reg = %s\"%(ep, eta, reg))\n",
    "            algo = SVDpp(n_epochs = ep, lr_all = eta, reg_all = reg)\n",
    "            algo.fit(trainset)\n",
    "            predictions = []\n",
    "            for i in range(len(test)):\n",
    "                uid, mid, rating = test.iloc[i, :]\n",
    "                predictions.append(algo.predict(uid, mid, rating).est)\n",
    "            E_outs_for_lambda.append(np.mean((predictions-test.rating)**2)/2)\n",
    "\n",
    "        E_outs.append(E_outs_for_lambda)\n",
    "\n",
    "\n",
    "for i in range(len(regs)):\n",
    "    plt.plot(etas, E_outs[i], label='$E_{out}, \\lambda=$'+str(regs[i]))\n",
    "plt.title('$E_{out}$ vs. eta')\n",
    "plt.xlabel('eta')\n",
    "plt.ylabel('Error')\n",
    "plt.legend()\t\n",
    "plt.savefig('SVD_eout_20.png')\t\t\n"
   ]
  },
  {
   "cell_type": "code",
   "execution_count": null,
   "metadata": {},
   "outputs": [],
   "source": [
    "regs = [10**-3, 10**-2]\n",
    "etas = [0.01, 0.03, 0.05, 0.07]\n",
    "E_ins = []\n",
    "E_outs = []\n",
    "ep = 40\n",
    "# Use to compute Eout\n",
    "for reg in regs:\n",
    "        E_outs_for_lambda = []\n",
    "\n",
    "        for eta in etas:\n",
    "            print(\"Training model with epoch = %d, eta = %s, reg = %s\"%(ep, eta, reg))\n",
    "            algo = SVDpp(n_epochs = ep, lr_all = eta, reg_all = reg)\n",
    "            algo.fit(trainset)\n",
    "            predictions = []\n",
    "            for i in range(len(test)):\n",
    "                uid, mid, rating = test.iloc[i, :]\n",
    "                predictions.append(algo.predict(uid, mid, rating).est)\n",
    "            E_outs_for_lambda.append(np.mean((predictions-test.rating)**2)/2)\n",
    "\n",
    "        E_outs.append(E_outs_for_lambda)\n",
    "\n",
    "\n",
    "for i in range(len(regs)):\n",
    "    plt.plot(etas, E_outs[i], label='$E_{out}, \\lambda=$'+str(regs[i]))\n",
    "plt.title('$E_{out}$ vs. eta')\n",
    "plt.xlabel('eta')\n",
    "plt.ylabel('Error')\n",
    "plt.legend()\t\n",
    "plt.savefig('SVD_eout_40.png')\t\t\n"
   ]
  },
  {
   "cell_type": "code",
   "execution_count": 32,
   "metadata": {},
   "outputs": [
    {
     "data": {
      "text/plain": [
       "<surprise.prediction_algorithms.matrix_factorization.SVDpp at 0x11da296d0>"
      ]
     },
     "execution_count": 32,
     "metadata": {},
     "output_type": "execute_result"
    }
   ],
   "source": [
    "algo = SVDpp(n_epochs = 15, lr_all = 0.005, reg_all = 0.01)\n",
    "algo.fit(fulldata)"
   ]
  },
  {
   "cell_type": "code",
   "execution_count": 34,
   "metadata": {},
   "outputs": [],
   "source": [
    "np.savetxt(\"SVDpp_data.txt\", algo.qi)"
   ]
  }
 ],
 "metadata": {
  "kernelspec": {
   "display_name": "Python 3",
   "language": "python",
   "name": "python3"
  },
  "language_info": {
   "codemirror_mode": {
    "name": "ipython",
    "version": 3
   },
   "file_extension": ".py",
   "mimetype": "text/x-python",
   "name": "python",
   "nbconvert_exporter": "python",
   "pygments_lexer": "ipython3",
   "version": "3.7.4"
  }
 },
 "nbformat": 4,
 "nbformat_minor": 4
}
