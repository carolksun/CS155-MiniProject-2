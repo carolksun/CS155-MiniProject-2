{
 "cells": [
  {
   "cell_type": "markdown",
   "metadata": {},
   "source": [
    "# Matrix Factorization using Surprise Library\n"
   ]
  },
  {
   "cell_type": "code",
   "execution_count": 46,
   "metadata": {},
   "outputs": [],
   "source": [
    "import numpy as np\n",
    "import matplotlib.pyplot as plt\n",
    "import pandas as pd\n",
    "from surprise import Dataset\n",
    "from surprise import Reader\n",
    "from surprise import SVDpp\n",
    "from surprise import accuracy\n",
    "from surprise.model_selection import KFold\n",
    "from surprise.model_selection import GridSearchCV\n"
   ]
  },
  {
   "cell_type": "code",
   "execution_count": 117,
   "metadata": {},
   "outputs": [],
   "source": [
    "# Creation of the dataframe. Column names are irrelevant.\n",
    "Y_train = np.loadtxt('./data/train.txt').astype(int)\n",
    "train = pd.DataFrame(Y_train, columns=['userID', 'movieID', 'rating'])\n",
    "Y_test = np.loadtxt('./data/test.txt').astype(int)\n",
    "test = pd.DataFrame(Y_test, columns=['userID', 'movieID', 'rating'])\n",
    "dataset = np.loadtxt('./data/data.txt').astype(int)\n",
    "dataset = pd.DataFrame(dataset, columns=['userID', 'movieID', 'rating'])"
   ]
  },
  {
   "cell_type": "code",
   "execution_count": 119,
   "metadata": {},
   "outputs": [],
   "source": [
    "reader = Reader(rating_scale=(1, 5))\n",
    "trainset = Dataset.load_from_df(train[['userID', 'movieID', 'rating']], reader)\n",
    "test_data = Dataset.load_from_df(test[['userID', 'movieID', 'rating']], reader)\n",
    "dataset = Dataset.load_from_df(dataset[['userID', 'movieID', 'rating']], reader)\n",
    "\n",
    "\n",
    "trainset = trainset.build_full_trainset()\n",
    "fulldata = data.build_full_trainset()"
   ]
  },
  {
   "cell_type": "code",
   "execution_count": 109,
   "metadata": {},
   "outputs": [
    {
     "name": "stdout",
     "output_type": "stream",
     "text": [
      "Training model with epoch = 20, eta = 0.01, reg = 0.001\n",
      "Training model with epoch = 20, eta = 0.03, reg = 0.001\n",
      "Training model with epoch = 20, eta = 0.05, reg = 0.001\n",
      "Training model with epoch = 20, eta = 0.01, reg = 0.01\n",
      "Training model with epoch = 20, eta = 0.03, reg = 0.01\n",
      "Training model with epoch = 20, eta = 0.05, reg = 0.01\n",
      "Training model with epoch = 20, eta = 0.01, reg = 0.1\n",
      "Training model with epoch = 20, eta = 0.03, reg = 0.1\n",
      "Training model with epoch = 20, eta = 0.05, reg = 0.1\n",
      "Training model with epoch = 20, eta = 0.01, reg = 1\n",
      "Training model with epoch = 20, eta = 0.03, reg = 1\n",
      "Training model with epoch = 20, eta = 0.05, reg = 1\n"
     ]
    },
    {
     "ename": "IndexError",
     "evalue": "list index out of range",
     "output_type": "error",
     "traceback": [
      "\u001b[0;31m---------------------------------------------------------------------------\u001b[0m",
      "\u001b[0;31mIndexError\u001b[0m                                Traceback (most recent call last)",
      "\u001b[0;32m<ipython-input-109-50de80d5b7c1>\u001b[0m in \u001b[0;36m<module>\u001b[0;34m\u001b[0m\n\u001b[1;32m     30\u001b[0m \u001b[0;31m# Plot values of E_in across k for each value of lambda\u001b[0m\u001b[0;34m\u001b[0m\u001b[0;34m\u001b[0m\u001b[0;34m\u001b[0m\u001b[0m\n\u001b[1;32m     31\u001b[0m \u001b[0;32mfor\u001b[0m \u001b[0mi\u001b[0m \u001b[0;32min\u001b[0m \u001b[0mrange\u001b[0m\u001b[0;34m(\u001b[0m\u001b[0mlen\u001b[0m\u001b[0;34m(\u001b[0m\u001b[0mregs\u001b[0m\u001b[0;34m)\u001b[0m\u001b[0;34m)\u001b[0m\u001b[0;34m:\u001b[0m\u001b[0;34m\u001b[0m\u001b[0;34m\u001b[0m\u001b[0m\n\u001b[0;32m---> 32\u001b[0;31m     \u001b[0mplt\u001b[0m\u001b[0;34m.\u001b[0m\u001b[0mplot\u001b[0m\u001b[0;34m(\u001b[0m\u001b[0metas\u001b[0m\u001b[0;34m,\u001b[0m \u001b[0mE_ins\u001b[0m\u001b[0;34m[\u001b[0m\u001b[0mi\u001b[0m\u001b[0;34m]\u001b[0m\u001b[0;34m,\u001b[0m \u001b[0mlabel\u001b[0m\u001b[0;34m=\u001b[0m\u001b[0;34m'$E_{in}, \\lambda=$'\u001b[0m\u001b[0;34m+\u001b[0m\u001b[0mstr\u001b[0m\u001b[0;34m(\u001b[0m\u001b[0mregs\u001b[0m\u001b[0;34m[\u001b[0m\u001b[0mi\u001b[0m\u001b[0;34m]\u001b[0m\u001b[0;34m)\u001b[0m\u001b[0;34m)\u001b[0m\u001b[0;34m\u001b[0m\u001b[0;34m\u001b[0m\u001b[0m\n\u001b[0m\u001b[1;32m     33\u001b[0m \u001b[0mplt\u001b[0m\u001b[0;34m.\u001b[0m\u001b[0mtitle\u001b[0m\u001b[0;34m(\u001b[0m\u001b[0;34m'$E_{in}$ vs. eta'\u001b[0m\u001b[0;34m)\u001b[0m\u001b[0;34m\u001b[0m\u001b[0;34m\u001b[0m\u001b[0m\n\u001b[1;32m     34\u001b[0m \u001b[0mplt\u001b[0m\u001b[0;34m.\u001b[0m\u001b[0mxlabel\u001b[0m\u001b[0;34m(\u001b[0m\u001b[0;34m'eta'\u001b[0m\u001b[0;34m)\u001b[0m\u001b[0;34m\u001b[0m\u001b[0;34m\u001b[0m\u001b[0m\n",
      "\u001b[0;31mIndexError\u001b[0m: list index out of range"
     ]
    }
   ],
   "source": [
    "regs = [10**-3, 10**-2, 10**-1, 1]\n",
    "etas = [0.01, 0.03, 0.05]\n",
    "E_ins = []\n",
    "E_outs = []\n",
    "ep = 20\n",
    "# Use to compute Eout\n",
    "for reg in regs:\n",
    "        E_outs_for_lambda = []\n",
    "\n",
    "        for eta in etas:\n",
    "            print(\"Training model with epoch = %d, eta = %s, reg = %s\"%(ep, eta, reg))\n",
    "            algo = SVDpp(n_epochs = ep, lr_all = eta, reg_all = reg)\n",
    "            algo.fit(trainset)\n",
    "            predictions = []\n",
    "            for i in range(len(test)):\n",
    "                uid, mid, rating = test.iloc[i, :]\n",
    "                predictions.append(algo.predict(uid, mid, rating).est)\n",
    "            E_outs_for_lambda.append(np.sqrt(np.mean((predictions-test.rating)**2)))\n",
    "\n",
    "        E_outs.append(E_outs_for_lambda)\n",
    "\n",
    "\n",
    "# Plot values of E_out across k for each value of lambda\n",
    "for i in range(len(regs)):\n",
    "    plt.plot(etas, E_outs[i], label='$E_{out}, \\lambda=$'+str(regs[i]))\n",
    "plt.title('$E_{out}$ vs. K')\n",
    "plt.xlabel('eta')\n",
    "plt.ylabel('Error')\n",
    "plt.legend()\t\n",
    "plt.savefig('SVD_eout_20.png')\t\t\n"
   ]
  },
  {
   "cell_type": "code",
   "execution_count": 111,
   "metadata": {},
   "outputs": [
    {
     "name": "stdout",
     "output_type": "stream",
     "text": [
      "Training model with epoch = 40, eta = 0.01, reg = 0.001\n",
      "Training model with epoch = 40, eta = 0.03, reg = 0.001\n",
      "Training model with epoch = 40, eta = 0.05, reg = 0.001\n",
      "Training model with epoch = 40, eta = 0.01, reg = 0.01\n",
      "Training model with epoch = 40, eta = 0.03, reg = 0.01\n",
      "Training model with epoch = 40, eta = 0.05, reg = 0.01\n",
      "Training model with epoch = 40, eta = 0.01, reg = 0.1\n",
      "Training model with epoch = 40, eta = 0.03, reg = 0.1\n",
      "Training model with epoch = 40, eta = 0.05, reg = 0.1\n"
     ]
    },
    {
     "data": {
      "image/png": "[encoded data removed]",
      "text/plain": [
       "<Figure size 432x288 with 1 Axes>"
      ]
     },
     "metadata": {
      "needs_background": "light"
     },
     "output_type": "display_data"
    }
   ],
   "source": [
    "regs = [10**-3, 10**-2, 10**-1]\n",
    "etas = [0.01, 0.03, 0.05]\n",
    "E_ins = []\n",
    "E_outs = []\n",
    "ep = 40\n",
    "# Use to compute Eout\n",
    "for reg in regs:\n",
    "        E_outs_for_lambda = []\n",
    "\n",
    "        for eta in etas:\n",
    "            print(\"Training model with epoch = %d, eta = %s, reg = %s\"%(ep, eta, reg))\n",
    "            algo = SVDpp(n_epochs = ep, lr_all = eta, reg_all = reg)\n",
    "            algo.fit(trainset)\n",
    "            predictions = []\n",
    "            for i in range(len(test)):\n",
    "                uid, mid, rating = test.iloc[i, :]\n",
    "                predictions.append(algo.predict(uid, mid, rating).est)\n",
    "            E_outs_for_lambda.append(np.sqrt(np.mean((predictions-test.rating)**2)))\n",
    "\n",
    "        E_outs.append(E_outs_for_lambda)\n",
    "\n",
    "\n",
    "# Plot values of E_out across eta for each value of lambda\n",
    "for i in range(len(regs)):\n",
    "    plt.plot(etas, E_outs[i], label='$E_{out}, \\lambda=$'+str(regs[i]))\n",
    "plt.title('$E_{out}$ vs. K')\n",
    "plt.xlabel('eta')\n",
    "plt.ylabel('Error')\n",
    "plt.legend()\t\n",
    "plt.savefig('SVD_eout_40.png')\t\t\n"
   ]
  },
  {
   "cell_type": "code",
   "execution_count": 112,
   "metadata": {},
   "outputs": [
    {
     "data": {
      "text/plain": [
       "<surprise.prediction_algorithms.matrix_factorization.SVDpp at 0x126f91890>"
      ]
     },
     "execution_count": 112,
     "metadata": {},
     "output_type": "execute_result"
    }
   ],
   "source": [
    "algo = SVDpp(n_epochs = 40, lr_all = 0.03, reg_all = 0.001)\n",
    "algo.fit(fulldata)"
   ]
  },
  {
   "cell_type": "code",
   "execution_count": 114,
   "metadata": {},
   "outputs": [
    {
     "data": {
      "text/plain": [
       "(1682, 20)"
      ]
     },
     "execution_count": 114,
     "metadata": {},
     "output_type": "execute_result"
    }
   ],
   "source": [
    "algo.qi.shape"
   ]
  },
  {
   "cell_type": "code",
   "execution_count": 115,
   "metadata": {},
   "outputs": [],
   "source": [
    "np.savetxt(\"./data/SVDpp.txt\", algo.qi)"
   ]
  },
  {
   "cell_type": "code",
   "execution_count": null,
   "metadata": {},
   "outputs": [],
   "source": []
  }
 ],
 "metadata": {
  "kernelspec": {
   "display_name": "Python 3",
   "language": "python",
   "name": "python3"
  },
  "language_info": {
   "codemirror_mode": {
    "name": "ipython",
    "version": 3
   },
   "file_extension": ".py",
   "mimetype": "text/x-python",
   "name": "python",
   "nbconvert_exporter": "python",
   "pygments_lexer": "ipython3",
   "version": "3.7.4"
  }
 },
 "nbformat": 4,
 "nbformat_minor": 4
}
