{
 "cells": [
  {
   "cell_type": "code",
   "execution_count": null,
   "metadata": {},
   "outputs": [],
   "source": [
    "import numpy as np\n",
    "import matplotlib.pyplot as plt\n",
    "import pandas as pd\n",
    "from surprise import Dataset\n",
    "from surprise import Reader\n",
    "from surprise import SVDpp\n",
    "from surprise import accuracy\n",
    "from surprise.model_selection import KFold\n",
    "from adjustText import adjust_text\n",
    "import seaborn as sns; sns.set()\n"
   ]
  },
  {
   "cell_type": "code",
   "execution_count": null,
   "metadata": {},
   "outputs": [],
   "source": [
    "movies = pd.read_csv('./data/chosen_movies.txt', header = None)\n",
    "movies.columns = [\"index\", \"movies\"]"
   ]
  },
  {
   "cell_type": "code",
   "execution_count": null,
   "metadata": {},
   "outputs": [],
   "source": [
    "movie_id_files = ['./data/chosen_movies.txt', \n",
    "                  './data/most_popular.txt', \n",
    "                  './data/best.txt', \n",
    "                  './data/ten_comedies.txt',\n",
    "                  './data/ten_mysteries.txt',\n",
    "                  './data/ten_romances.txt']\n",
    "titles = ['10 Chosen Movies', '10 Most Popular Movies', '10 Best Movies', '10 Comedies', '10 Mysteries', '10 Romances']\n",
    "V_data_files = ['./data/V_reg_0.1_eta_0.01.txt', \n",
    "                  './data/V_a_b.txt', \n",
    "                  'SVDpp_data.txt']"
   ]
  },
  {
   "cell_type": "code",
   "execution_count": null,
   "metadata": {
    "scrolled": true
   },
   "outputs": [],
   "source": [
    "for v in range(len(V_data_files)):\n",
    "    V_data_title = V_data_files[v]\n",
    "    V_data = np.loadtxt(V_data_title).astype(float)\n",
    "    V_data = pd.DataFrame(V_data)\n",
    "    u, s, vh = np.linalg.svd(V_data, full_matrices=True)\n",
    "    projection = u[:, 0:2]\n",
    "    for i in range(len(movie_id_files)):\n",
    "        movie_id = movie_id_files[i]\n",
    "        movies = pd.read_csv(movie_id, header = None)\n",
    "        movies.columns = [\"index\", \"movies\"]\n",
    "        points = pd.DataFrame(data = projection[movies[\"index\"]], index = None)\n",
    "        points.columns = [\"x\", \"y\"]\n",
    "        points[\"movies\"] = movies[\"movies\"]\n",
    "        \n",
    "        fig, ax = plt.subplots(figsize=(18, 18))\n",
    "        ax = sns.scatterplot(x=\"x\", y=\"y\", data=points)  \n",
    "        texts = [plt.text(points.x[i], points.y[i], points.movies[i], ha='center', va='center', size='large') for i in range(points.shape[0])]\n",
    "        adjust_text(texts)\n",
    "\n",
    "        ax.axvline([0])\n",
    "        ax.axhline([0])\n",
    "        border = max(points.x.max(), points.y.max(), -points.x.min(), -points.y.min()) + 0.01\n",
    "        plt.xlim([-border, border])\n",
    "        plt.ylim([-border, border])\n",
    "        plt.title(titles[i] + ' with Method %d' % (v+1))\n",
    "        ax.fill_between([-0.35, 0],-0.35,0,alpha=0.25, color='#AEF1F3')  \n",
    "        ax.fill_between([0, 0.35], -0.35, 0, alpha=0.25, color='#AEF3BC') \n",
    "        ax.fill_between([-0.35, 0], 0, 0.35, alpha=0.25, color='#FFC552') \n",
    "        ax.fill_between([0, 0.35], 0, 0.35, alpha=0.25, color='#C698E3')\n",
    "        plt.savefig(\"./plots/\" + titles[i] + \"_%d.png\" % (v+1), bbox_inches='tight')"
   ]
  }
 ],
 "metadata": {
  "kernelspec": {
   "display_name": "Python 3",
   "language": "python",
   "name": "python3"
  },
  "language_info": {
   "codemirror_mode": {
    "name": "ipython",
    "version": 3
   },
   "file_extension": ".py",
   "mimetype": "text/x-python",
   "name": "python",
   "nbconvert_exporter": "python",
   "pygments_lexer": "ipython3",
   "version": "3.7.4"
  }
 },
 "nbformat": 4,
 "nbformat_minor": 2
}
